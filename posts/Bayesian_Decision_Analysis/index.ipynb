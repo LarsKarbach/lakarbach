{
  "cells": [
    {
      "cell_type": "raw",
      "metadata": {},
      "source": [
        "---\n",
        "title: \"Bayesian Decision Analysis in PyMC\"\n",
        "description: \"\"\n",
        "date: \"8/20/2022\"\n",
        "draft: True\n",
        "execute: \n",
        "  eval: false\n",
        "---"
      ],
      "id": "7eb8b7cb"
    },
    {
      "cell_type": "code",
      "metadata": {},
      "source": [
        "def main():\n",
        "    pass"
      ],
      "id": "b76abe18",
      "execution_count": null,
      "outputs": []
    },
    {
      "cell_type": "markdown",
      "metadata": {},
      "source": [
        "<!-- "
      ],
      "id": "c79b6042"
    },
    {
      "cell_type": "code",
      "metadata": {},
      "source": [
        "import arviz as az\n",
        "import numpy as np\n",
        "import pymc as pm"
      ],
      "id": "2d27db32",
      "execution_count": null,
      "outputs": []
    },
    {
      "cell_type": "markdown",
      "metadata": {},
      "source": [
        "### 1. Space of possible Decisions and outcomes\n",
        "\n",
        "We start by defining our set of decisions which our individual can make and the outcomes which resulted from every decision.\n",
        "In our case we deal with a decision of a transport mode and an associated time and cost. \n"
      ],
      "id": "6d9b4d87"
    },
    {
      "cell_type": "code",
      "metadata": {},
      "source": [
        "modes = [\"walk\", \"bike\", \"public\", \"cab\"]"
      ],
      "id": "0b3b5415",
      "execution_count": null,
      "outputs": []
    },
    {
      "cell_type": "markdown",
      "metadata": {},
      "source": [
        "### 2. Probability distribution of outcomes conditional on decisions\n",
        "\n",
        "Every decision $d \\in D$ yields an outcome $x=(c, t) \\in X$. The density we need looks like the following:\n",
        "\n",
        "$$\n",
        "p(x|d, x^{obs}, d^{obs})= \\int p(x|d,\\theta) \\cdot p(\\theta|x^{obs}, d^{obs})d\\theta\n",
        "$$\n",
        "\n",
        "\n",
        "The commute time $t_n$ aswell as the cost $c_n$ are modeled as follows:\n",
        "\n",
        "\\begin{align*}\n",
        "\n",
        "t_n &\\sim lognormal(\\mu_{d[n]}, \\sigma_{d[n]})\\\\\n",
        "\\mu_k &\\sim normal(0,1) \\\\\n",
        "\\sigma_k &\\sim lognormal(0, 0.25) \\\\\n",
        "\n",
        "c_n &\\sim lognormal(\\nu_{d[n]}, \\tau_{d[n]}) \\\\\n",
        "\\nu_k &\\sim normal(0,1) \\\\\n",
        "\\tau_k &\\sim lognormal(0,0.25)\n",
        "\\end{align*}\n",
        "\n",
        "\n",
        "### 3. Defining our utility function\n",
        "\n",
        "The utility function $U(X)$ takes an outcome and maps it to a real number which is our resulting utility. Our utility is a linear function of the cost and the time.\n"
      ],
      "id": "141facbe"
    },
    {
      "cell_type": "code",
      "metadata": {},
      "source": [
        "def utility(cost, time):\n",
        "    return -(cost+5*time)"
      ],
      "id": "008f7db1",
      "execution_count": null,
      "outputs": []
    },
    {
      "cell_type": "markdown",
      "metadata": {},
      "source": [
        "### 4. Compute the expected utility\n"
      ],
      "id": "d6491902"
    },
    {
      "cell_type": "code",
      "metadata": {},
      "source": [
        "with pm.Model(coords={\"modes\": modes}) as discrete_choice_model:\n",
        "\n",
        "    #Priors for time\n",
        "    mu = pm.Normal(\"mu\", 0, 1)\n",
        "    sigma = pm.LogNormal(\"sigma\", 0, 0.25)\n",
        "\n",
        "    time = pm.LogNormal(\"time\", mu, sigma, dims=\"modes\")\n",
        "\n",
        "    #Priors for cost\n",
        "    nu = pm.Normal(\"nu\", 0, 1)\n",
        "    tau = pm.LogNormal(\"tau\", 0, 0.25)\n",
        "\n",
        "    cost = pm.LogNormal(\"cost\", nu, tau, dims=\"modes\")\n",
        "\n",
        "    #utility \n",
        "    util = pm.Deterministic(\"utility\", utility(cost, time), dims=\"modes\")"
      ],
      "id": "df368412",
      "execution_count": null,
      "outputs": []
    },
    {
      "cell_type": "code",
      "metadata": {},
      "source": [
        "with discrete_choice_model:\n",
        "    idata = pm.sample(1000, tune=2500, random_seed=RANDOM_SEED, target_accept=0.95)"
      ],
      "id": "9a8e839a",
      "execution_count": null,
      "outputs": []
    },
    {
      "cell_type": "code",
      "metadata": {},
      "source": [
        "with discrete_choice_model:\n",
        "    pp = pm.sample_posterior_predictive(idata, random_seed=RANDOM_SEED)"
      ],
      "id": "c0afd24a",
      "execution_count": null,
      "outputs": []
    },
    {
      "cell_type": "markdown",
      "metadata": {},
      "source": [
        "az.summary(idata, filter_vars=\"like\", var_names=\"utility\")[\"mean\"].idxmax()\n",
        "``` -->"
      ],
      "id": "653a26dd"
    }
  ],
  "metadata": {
    "kernelspec": {
      "name": "python3",
      "language": "python",
      "display_name": "Python 3"
    }
  },
  "nbformat": 4,
  "nbformat_minor": 5
}